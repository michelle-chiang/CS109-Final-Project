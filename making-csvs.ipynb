{
 "cells": [
  {
   "cell_type": "code",
   "execution_count": 3,
   "metadata": {},
   "outputs": [
    {
     "name": "stderr",
     "output_type": "stream",
     "text": [
      "C:\\Users\\IhnSik\\Anaconda3\\lib\\site-packages\\statsmodels\\compat\\pandas.py:56: FutureWarning: The pandas.core.datetools module is deprecated and will be removed in a future version. Please use the pandas.tseries module instead.\n",
      "  from pandas.core import datetools\n"
     ]
    }
   ],
   "source": [
    "import numpy as np\n",
    "import pandas as pd\n",
    "import matplotlib\n",
    "import matplotlib.pyplot as plt\n",
    "from sklearn.linear_model import LogisticRegressionCV\n",
    "from sklearn.linear_model import LogisticRegression\n",
    "import sklearn.metrics as metrics\n",
    "from sklearn.preprocessing import PolynomialFeatures\n",
    "from sklearn.discriminant_analysis import LinearDiscriminantAnalysis\n",
    "from sklearn.discriminant_analysis import QuadraticDiscriminantAnalysis\n",
    "from sklearn.neighbors import KNeighborsClassifier\n",
    "from sklearn.tree import DecisionTreeClassifier\n",
    "from sklearn.model_selection import cross_val_score\n",
    "#import pydotplus\n",
    "#import io\n",
    "from sklearn.tree import export_graphviz\n",
    "from IPython.display import Image\n",
    "from IPython.display import display\n",
    "from sklearn.metrics import accuracy_score\n",
    "import datetime as DT\n",
    "import seaborn as sns\n",
    "from sklearn.metrics import r2_score\n",
    "import statsmodels.api as sm\n",
    "from statsmodels.api import OLS\n",
    "from sklearn.preprocessing import PolynomialFeatures\n",
    "from sklearn.linear_model import Ridge\n",
    "from sklearn.linear_model import Lasso\n",
    "from sklearn.linear_model import RidgeCV\n",
    "from sklearn.linear_model import LassoCV\n",
    "from sklearn.utils import resample\n",
    "from scipy import stats\n",
    "\n",
    "%matplotlib inline"
   ]
  },
  {
   "cell_type": "code",
   "execution_count": 7,
   "metadata": {},
   "outputs": [
    {
     "name": "stdout",
     "output_type": "stream",
     "text": [
      "['Unnamed: 0', 'followers', 'majority_artist_genres', 'name', 'owner', 'track_ids', 'num_tracks', 'avg_song_popularity', 'avg_danceability', 'avg_energy', 'avg_loudness', 'avg_speechiness', 'avg_acousticness', 'avg_instrumentalness', 'avg_liveness', 'avg_valence', 'avg_duration_ms', 'avg_num_artists', 'avg_num_markets', 'majority_explicit', 'majority_mode', 'avg_album_popularity', 'avg_album_release_year', 'avg_artist_popularity', 'avg_artist_followers', 'majority_key_0.0', 'majority_key_1.0', 'majority_key_2.0', 'majority_key_3.0', 'majority_key_4.0', 'majority_key_5.0', 'majority_key_6.0', 'majority_key_7.0', 'majority_key_8.0', 'majority_key_9.0', 'majority_key_10.0', 'majority_key_11.0', 'majority_album_type_', 'majority_album_type_ album', 'majority_album_type_ compilation', 'majority_album_type_ single', 'majority_album_type_album', 'majority_album_type_compilation', 'majority_album_type_single', 'majority_time_signature_0.0', 'majority_time_signature_1.0', 'majority_time_signature_3.0', 'majority_time_signature_4.0']\n"
     ]
    }
   ],
   "source": [
    "df_all = pd.read_csv('./final_dataset.csv')\n",
    "df_all = df_all.dropna()\n",
    "features = list(df_all.columns.values)\n",
    "print(features)"
   ]
  },
  {
   "cell_type": "code",
   "execution_count": 11,
   "metadata": {
    "collapsed": true
   },
   "outputs": [],
   "source": [
    "df_some = df_all.drop(['avg_danceability', 'avg_duration_ms', 'avg_energy','majority_key_0.0', 'majority_key_1.0', 'majority_key_2.0', 'majority_key_3.0', 'majority_key_4.0', 'majority_key_5.0', 'majority_key_6.0', 'majority_key_7.0', 'majority_key_8.0', 'majority_key_9.0', 'majority_key_10.0', 'majority_key_11.0', 'majority_time_signature_0.0', 'majority_time_signature_1.0', 'majority_time_signature_3.0', 'majority_time_signature_4.0'], 1)"
   ]
  },
  {
   "cell_type": "code",
   "execution_count": 18,
   "metadata": {
    "collapsed": true
   },
   "outputs": [],
   "source": [
    "df_some.to_csv('spotify_preds_csv2.csv', encoding='utf-8')"
   ]
  },
  {
   "cell_type": "code",
   "execution_count": null,
   "metadata": {
    "collapsed": true
   },
   "outputs": [],
   "source": []
  }
 ],
 "metadata": {
  "kernelspec": {
   "display_name": "Python 3",
   "language": "python",
   "name": "python3"
  },
  "language_info": {
   "codemirror_mode": {
    "name": "ipython",
    "version": 3
   },
   "file_extension": ".py",
   "mimetype": "text/x-python",
   "name": "python",
   "nbconvert_exporter": "python",
   "pygments_lexer": "ipython3",
   "version": "3.6.1"
  }
 },
 "nbformat": 4,
 "nbformat_minor": 2
}
