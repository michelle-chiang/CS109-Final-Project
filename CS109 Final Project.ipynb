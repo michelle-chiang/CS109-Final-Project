{
 "cells": [
  {
   "cell_type": "code",
   "execution_count": null,
   "metadata": {
    "collapsed": true
   },
   "outputs": [],
   "source": [
    "# import requests\n"
   ]
  },
  {
   "cell_type": "code",
   "execution_count": 1,
   "metadata": {},
   "outputs": [
    {
     "ename": "SyntaxError",
     "evalue": "invalid syntax (<ipython-input-1-9fc5acd31fbc>, line 7)",
     "output_type": "error",
     "traceback": [
      "\u001b[1;36m  File \u001b[1;32m\"<ipython-input-1-9fc5acd31fbc>\"\u001b[1;36m, line \u001b[1;32m7\u001b[0m\n\u001b[1;33m    'Authorization': 'Basic ' + (new Buffer(client_id + ':' + client_secret).toString('base64'))\u001b[0m\n\u001b[1;37m                                          ^\u001b[0m\n\u001b[1;31mSyntaxError\u001b[0m\u001b[1;31m:\u001b[0m invalid syntax\n"
     ]
    }
   ],
   "source": [
    "client_id = '2669d7b4e7874f969f8afa19c5dbe117'\n",
    "client_secret = 'bc4bf6c641e3431abe0ec5ef12cd0567'\n",
    "\n",
    "authOptions = {\n",
    "  url: 'https://accounts.spotify.com/api/token',\n",
    "  headers: {\n",
    "    'Authorization': 'Basic ' + (new Buffer(client_id + ':' + client_secret).toString('base64'))\n",
    "  },\n",
    "  form: {\n",
    "    grant_type: 'client_credentials'\n",
    "  },\n",
    "  json: true\n",
    "}\n",
    "\n"
   ]
  },
  {
   "cell_type": "code",
   "execution_count": null,
   "metadata": {
    "collapsed": true
   },
   "outputs": [],
   "source": []
  }
 ],
 "metadata": {
  "kernelspec": {
   "display_name": "Python 3",
   "language": "python",
   "name": "python3"
  },
  "language_info": {
   "codemirror_mode": {
    "name": "ipython",
    "version": 3
   },
   "file_extension": ".py",
   "mimetype": "text/x-python",
   "name": "python",
   "nbconvert_exporter": "python",
   "pygments_lexer": "ipython3",
   "version": "3.6.1"
  }
 },
 "nbformat": 4,
 "nbformat_minor": 2
}
