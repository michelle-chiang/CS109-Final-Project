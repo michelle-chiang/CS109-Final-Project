{
 "cells": [
  {
   "cell_type": "code",
   "execution_count": 2,
   "metadata": {
    "collapsed": true
   },
   "outputs": [],
   "source": [
    "import numpy as np\n",
    "import pandas as pd\n",
    "import matplotlib\n",
    "import matplotlib.pyplot as plt\n",
    "%matplotlib inline"
   ]
  },
  {
   "cell_type": "code",
   "execution_count": 3,
   "metadata": {},
   "outputs": [
    {
     "data": {
      "text/html": [
       "<div>\n",
       "<style>\n",
       "    .dataframe thead tr:only-child th {\n",
       "        text-align: right;\n",
       "    }\n",
       "\n",
       "    .dataframe thead th {\n",
       "        text-align: left;\n",
       "    }\n",
       "\n",
       "    .dataframe tbody tr th {\n",
       "        vertical-align: top;\n",
       "    }\n",
       "</style>\n",
       "<table border=\"1\" class=\"dataframe\">\n",
       "  <thead>\n",
       "    <tr style=\"text-align: right;\">\n",
       "      <th></th>\n",
       "      <th>id</th>\n",
       "      <th>followers</th>\n",
       "      <th>name</th>\n",
       "      <th>owner</th>\n",
       "      <th>track_ids</th>\n",
       "      <th>num_tracks</th>\n",
       "    </tr>\n",
       "  </thead>\n",
       "  <tbody>\n",
       "    <tr>\n",
       "      <th>0</th>\n",
       "      <td>37i9dQZF1DXcBWIGoYBM5M</td>\n",
       "      <td>18129916</td>\n",
       "      <td>Today's Top Hits</td>\n",
       "      <td>spotify</td>\n",
       "      <td>[0tBbt8CrmxbjRP0pueQkyU, 2amzBJRBPOGszBem4Fedf...</td>\n",
       "      <td>50</td>\n",
       "    </tr>\n",
       "    <tr>\n",
       "      <th>1</th>\n",
       "      <td>37i9dQZF1DX0XUsuxWHRQd</td>\n",
       "      <td>8323892</td>\n",
       "      <td>RapCaviar</td>\n",
       "      <td>spotify</td>\n",
       "      <td>[4dVpf9jZjcORqGTLUaeYj9, 3ncgNpxLoBQ65ABk4djDy...</td>\n",
       "      <td>51</td>\n",
       "    </tr>\n",
       "    <tr>\n",
       "      <th>2</th>\n",
       "      <td>37i9dQZF1DX4dyzvuaRJ0n</td>\n",
       "      <td>4600937</td>\n",
       "      <td>mint</td>\n",
       "      <td>spotify</td>\n",
       "      <td>[3VQDpxMffTaggOHEeur7Tj, 43V1z6QToNNWNldV4FEG6...</td>\n",
       "      <td>52</td>\n",
       "    </tr>\n",
       "    <tr>\n",
       "      <th>3</th>\n",
       "      <td>37i9dQZF1DX4SBhb3fqCJd</td>\n",
       "      <td>3787551</td>\n",
       "      <td>Are &amp; Be</td>\n",
       "      <td>spotify</td>\n",
       "      <td>[6gU9OKjOE7ghfEd55oRO57, 25wStx3LyTjYmHTd3RDu0...</td>\n",
       "      <td>51</td>\n",
       "    </tr>\n",
       "    <tr>\n",
       "      <th>4</th>\n",
       "      <td>37i9dQZF1DXcF6B6QPhFDv</td>\n",
       "      <td>3996091</td>\n",
       "      <td>Rock This</td>\n",
       "      <td>spotify</td>\n",
       "      <td>[3k7JQg9M5rZJHveFYq0y9J, 5UMD1Iz7yyVK8Q5FLsVt3...</td>\n",
       "      <td>50</td>\n",
       "    </tr>\n",
       "  </tbody>\n",
       "</table>\n",
       "</div>"
      ],
      "text/plain": [
       "                       id  followers              name    owner  \\\n",
       "0  37i9dQZF1DXcBWIGoYBM5M   18129916  Today's Top Hits  spotify   \n",
       "1  37i9dQZF1DX0XUsuxWHRQd    8323892         RapCaviar  spotify   \n",
       "2  37i9dQZF1DX4dyzvuaRJ0n    4600937              mint  spotify   \n",
       "3  37i9dQZF1DX4SBhb3fqCJd    3787551          Are & Be  spotify   \n",
       "4  37i9dQZF1DXcF6B6QPhFDv    3996091         Rock This  spotify   \n",
       "\n",
       "                                           track_ids  num_tracks  \n",
       "0  [0tBbt8CrmxbjRP0pueQkyU, 2amzBJRBPOGszBem4Fedf...          50  \n",
       "1  [4dVpf9jZjcORqGTLUaeYj9, 3ncgNpxLoBQ65ABk4djDy...          51  \n",
       "2  [3VQDpxMffTaggOHEeur7Tj, 43V1z6QToNNWNldV4FEG6...          52  \n",
       "3  [6gU9OKjOE7ghfEd55oRO57, 25wStx3LyTjYmHTd3RDu0...          51  \n",
       "4  [3k7JQg9M5rZJHveFYq0y9J, 5UMD1Iz7yyVK8Q5FLsVt3...          50  "
      ]
     },
     "execution_count": 3,
     "metadata": {},
     "output_type": "execute_result"
    }
   ],
   "source": [
    "playlists_df = pd.read_csv('spotify_playlists.csv', sep=';')\n",
    "playlists_df = playlists_df.rename(index=str, columns={'trackIds': 'track_ids', 'numTracks': 'num_tracks'})\n",
    "\n",
    "playlists_df = playlists_df[playlists_df.followers != 'null']\n",
    "playlists_df['followers'] = [int(i) for i in playlists_df['followers']]\n",
    "\n",
    "playlists_df['track_ids'] = [i.replace(',null', '').replace('\"','').replace('[','').replace(']','').split(',') for i in playlists_df['track_ids']]\n",
    "\n",
    "playlists_df['num_tracks'] = [int(len(i)) for i in playlists_df['track_ids']]\n",
    "\n",
    "playlists_df.head()"
   ]
  },
  {
   "cell_type": "code",
   "execution_count": 4,
   "metadata": {},
   "outputs": [
    {
     "data": {
      "text/plain": [
       "1643"
      ]
     },
     "execution_count": 4,
     "metadata": {},
     "output_type": "execute_result"
    }
   ],
   "source": [
    "len(playlists_df)"
   ]
  },
  {
   "cell_type": "code",
   "execution_count": 4,
   "metadata": {},
   "outputs": [
    {
     "data": {
      "text/plain": [
       "<matplotlib.text.Text at 0x10cbc7f60>"
      ]
     },
     "execution_count": 4,
     "metadata": {},
     "output_type": "execute_result"
    },
    {
     "data": {
      "image/png": "[encoded data removed]",
      "text/plain": [
       "<matplotlib.figure.Figure at 0x10c05d9b0>"
      ]
     },
     "metadata": {},
     "output_type": "display_data"
    }
   ],
   "source": [
    "# plt.figure(figsize=(20,10))\n",
    "plt.scatter(playlists_df['num_tracks'], playlists_df['followers'])\n",
    "plt.xlabel('Number of Tracks')\n",
    "plt.ylabel('Number of Followers')\n",
    "plt.title('Playlist Popularity as a Function of Number of Tracks')"
   ]
  },
  {
   "cell_type": "code",
   "execution_count": 6,
   "metadata": {},
   "outputs": [
    {
     "name": "stdout",
     "output_type": "stream",
     "text": [
      "The history saving thread hit an unexpected error (OperationalError('unable to open database file',)).History will not be written to the database.\n"
     ]
    },
    {
     "data": {
      "text/html": [
       "<div>\n",
       "<style>\n",
       "    .dataframe thead tr:only-child th {\n",
       "        text-align: right;\n",
       "    }\n",
       "\n",
       "    .dataframe thead th {\n",
       "        text-align: left;\n",
       "    }\n",
       "\n",
       "    .dataframe tbody tr th {\n",
       "        vertical-align: top;\n",
       "    }\n",
       "</style>\n",
       "<table border=\"1\" class=\"dataframe\">\n",
       "  <thead>\n",
       "    <tr style=\"text-align: right;\">\n",
       "      <th></th>\n",
       "      <th>album_name</th>\n",
       "      <th>album_id</th>\n",
       "      <th>artist_names</th>\n",
       "      <th>artist_ids</th>\n",
       "      <th>available_markets</th>\n",
       "      <th>track_id</th>\n",
       "      <th>track_isrc_id</th>\n",
       "      <th>track_name</th>\n",
       "      <th>track_number</th>\n",
       "      <th>disc_number</th>\n",
       "      <th>...</th>\n",
       "      <th>key</th>\n",
       "      <th>loudness</th>\n",
       "      <th>mode</th>\n",
       "      <th>speechiness</th>\n",
       "      <th>acousticness</th>\n",
       "      <th>instrumentalness</th>\n",
       "      <th>liveness</th>\n",
       "      <th>valence</th>\n",
       "      <th>duration_ms</th>\n",
       "      <th>time_signature</th>\n",
       "    </tr>\n",
       "  </thead>\n",
       "  <tbody>\n",
       "    <tr>\n",
       "      <th>0</th>\n",
       "      <td>x (Deluxe Edition)</td>\n",
       "      <td>1xn54DMo2qIqBuMqHtUsFd</td>\n",
       "      <td>[Ed Sheeran]</td>\n",
       "      <td>[6eUKZXaKkcviH0Ku9w2n3V]</td>\n",
       "      <td>[AR, AT, AU, BE, BG, BO, BR, CA, CH, CL, CO, C...</td>\n",
       "      <td>34gCuhDGsG4bRPIf9bb02f</td>\n",
       "      <td>GBAHS1400099</td>\n",
       "      <td>Thinking Out Loud</td>\n",
       "      <td>11</td>\n",
       "      <td>1</td>\n",
       "      <td>...</td>\n",
       "      <td>2</td>\n",
       "      <td>-6.061</td>\n",
       "      <td>1</td>\n",
       "      <td>0.0295</td>\n",
       "      <td>0.474</td>\n",
       "      <td>0.000000</td>\n",
       "      <td>0.1840</td>\n",
       "      <td>0.591</td>\n",
       "      <td>281560</td>\n",
       "      <td>4</td>\n",
       "    </tr>\n",
       "    <tr>\n",
       "      <th>1</th>\n",
       "      <td>Love In The Future</td>\n",
       "      <td>4OTAx9un4e6NfoHuVRiOrC</td>\n",
       "      <td>[John Legend]</td>\n",
       "      <td>[5y2Xq6xcjJb2jVM54GHK3t]</td>\n",
       "      <td>[AD, AR, AT, AU, BE, BG, BO, BR, CA, CH, CL, C...</td>\n",
       "      <td>3U4isOIWM3VvDubwSI3y7a</td>\n",
       "      <td>USSM11303954</td>\n",
       "      <td>All of Me</td>\n",
       "      <td>6</td>\n",
       "      <td>1</td>\n",
       "      <td>...</td>\n",
       "      <td>8</td>\n",
       "      <td>-7.064</td>\n",
       "      <td>1</td>\n",
       "      <td>0.0322</td>\n",
       "      <td>0.922</td>\n",
       "      <td>0.000000</td>\n",
       "      <td>0.1320</td>\n",
       "      <td>0.331</td>\n",
       "      <td>269560</td>\n",
       "      <td>4</td>\n",
       "    </tr>\n",
       "    <tr>\n",
       "      <th>2</th>\n",
       "      <td>In The Lonely Hour (Drowning Shadows Edition)</td>\n",
       "      <td>0kJbDT8VGMScK8YDzNNvzV</td>\n",
       "      <td>[Sam Smith]</td>\n",
       "      <td>[2wY79sveU1sp5g7SokKOiI]</td>\n",
       "      <td>[AD, AR, AT, AU, BE, BG, BO, BR, CH, CL, CO, C...</td>\n",
       "      <td>62NVyyEBiRxGae3SeB97nl</td>\n",
       "      <td>GBUM71308833</td>\n",
       "      <td>Stay With Me</td>\n",
       "      <td>3</td>\n",
       "      <td>1</td>\n",
       "      <td>...</td>\n",
       "      <td>0</td>\n",
       "      <td>-6.275</td>\n",
       "      <td>1</td>\n",
       "      <td>0.0435</td>\n",
       "      <td>0.521</td>\n",
       "      <td>0.000135</td>\n",
       "      <td>0.1060</td>\n",
       "      <td>0.184</td>\n",
       "      <td>172724</td>\n",
       "      <td>4</td>\n",
       "    </tr>\n",
       "    <tr>\n",
       "      <th>3</th>\n",
       "      <td>Come Away With Me</td>\n",
       "      <td>1JvoMzqg04nC29gam4Qaiq</td>\n",
       "      <td>[Norah Jones]</td>\n",
       "      <td>[2Kx7MNY7cI1ENniW7vT30N]</td>\n",
       "      <td>[AD, AR, AT, AU, BE, BG, BO, BR, CA, CH, CL, C...</td>\n",
       "      <td>6ybViy2qrO9sIi41EgRJgx</td>\n",
       "      <td>USBN20100529</td>\n",
       "      <td>Don't Know Why</td>\n",
       "      <td>1</td>\n",
       "      <td>1</td>\n",
       "      <td>...</td>\n",
       "      <td>5</td>\n",
       "      <td>-11.775</td>\n",
       "      <td>1</td>\n",
       "      <td>0.0280</td>\n",
       "      <td>0.883</td>\n",
       "      <td>0.000011</td>\n",
       "      <td>0.0659</td>\n",
       "      <td>0.618</td>\n",
       "      <td>186147</td>\n",
       "      <td>4</td>\n",
       "    </tr>\n",
       "    <tr>\n",
       "      <th>4</th>\n",
       "      <td>Dock Of The Bay</td>\n",
       "      <td>0kSkzG0sfuG4lRuFF5jWVr</td>\n",
       "      <td>[Otis Redding]</td>\n",
       "      <td>[60df5JBRRPcnSpsIMxxwQm]</td>\n",
       "      <td>[AD, AR, AT, AU, BE, BG, BO, BR, CA, CH, CL, C...</td>\n",
       "      <td>4Y4Gd3ty8uut6Qw43c7yJc</td>\n",
       "      <td>USAT29900865</td>\n",
       "      <td>(Sittin' On) The Dock Of The Bay</td>\n",
       "      <td>1</td>\n",
       "      <td>1</td>\n",
       "      <td>...</td>\n",
       "      <td>2</td>\n",
       "      <td>-13.522</td>\n",
       "      <td>1</td>\n",
       "      <td>0.0533</td>\n",
       "      <td>0.726</td>\n",
       "      <td>0.000002</td>\n",
       "      <td>0.0601</td>\n",
       "      <td>0.598</td>\n",
       "      <td>166827</td>\n",
       "      <td>4</td>\n",
       "    </tr>\n",
       "  </tbody>\n",
       "</table>\n",
       "<p>5 rows × 24 columns</p>\n",
       "</div>"
      ],
      "text/plain": [
       "                                      album_name                album_id  \\\n",
       "0                             x (Deluxe Edition)  1xn54DMo2qIqBuMqHtUsFd   \n",
       "1                             Love In The Future  4OTAx9un4e6NfoHuVRiOrC   \n",
       "2  In The Lonely Hour (Drowning Shadows Edition)  0kJbDT8VGMScK8YDzNNvzV   \n",
       "3                              Come Away With Me  1JvoMzqg04nC29gam4Qaiq   \n",
       "4                                Dock Of The Bay  0kSkzG0sfuG4lRuFF5jWVr   \n",
       "\n",
       "     artist_names                artist_ids  \\\n",
       "0    [Ed Sheeran]  [6eUKZXaKkcviH0Ku9w2n3V]   \n",
       "1   [John Legend]  [5y2Xq6xcjJb2jVM54GHK3t]   \n",
       "2     [Sam Smith]  [2wY79sveU1sp5g7SokKOiI]   \n",
       "3   [Norah Jones]  [2Kx7MNY7cI1ENniW7vT30N]   \n",
       "4  [Otis Redding]  [60df5JBRRPcnSpsIMxxwQm]   \n",
       "\n",
       "                                   available_markets                track_id  \\\n",
       "0  [AR, AT, AU, BE, BG, BO, BR, CA, CH, CL, CO, C...  34gCuhDGsG4bRPIf9bb02f   \n",
       "1  [AD, AR, AT, AU, BE, BG, BO, BR, CA, CH, CL, C...  3U4isOIWM3VvDubwSI3y7a   \n",
       "2  [AD, AR, AT, AU, BE, BG, BO, BR, CH, CL, CO, C...  62NVyyEBiRxGae3SeB97nl   \n",
       "3  [AD, AR, AT, AU, BE, BG, BO, BR, CA, CH, CL, C...  6ybViy2qrO9sIi41EgRJgx   \n",
       "4  [AD, AR, AT, AU, BE, BG, BO, BR, CA, CH, CL, C...  4Y4Gd3ty8uut6Qw43c7yJc   \n",
       "\n",
       "  track_isrc_id                        track_name  track_number  disc_number  \\\n",
       "0  GBAHS1400099                 Thinking Out Loud            11            1   \n",
       "1  USSM11303954                         All of Me             6            1   \n",
       "2  GBUM71308833                      Stay With Me             3            1   \n",
       "3  USBN20100529                    Don't Know Why             1            1   \n",
       "4  USAT29900865  (Sittin' On) The Dock Of The Bay             1            1   \n",
       "\n",
       "        ...        key  loudness  mode  speechiness  acousticness  \\\n",
       "0       ...          2    -6.061     1       0.0295         0.474   \n",
       "1       ...          8    -7.064     1       0.0322         0.922   \n",
       "2       ...          0    -6.275     1       0.0435         0.521   \n",
       "3       ...          5   -11.775     1       0.0280         0.883   \n",
       "4       ...          2   -13.522     1       0.0533         0.726   \n",
       "\n",
       "   instrumentalness  liveness  valence  duration_ms  time_signature  \n",
       "0          0.000000    0.1840    0.591       281560               4  \n",
       "1          0.000000    0.1320    0.331       269560               4  \n",
       "2          0.000135    0.1060    0.184       172724               4  \n",
       "3          0.000011    0.0659    0.618       186147               4  \n",
       "4          0.000002    0.0601    0.598       166827               4  \n",
       "\n",
       "[5 rows x 24 columns]"
      ]
     },
     "execution_count": 6,
     "metadata": {},
     "output_type": "execute_result"
    }
   ],
   "source": [
    "tracks_df = pd.read_csv('small_tracks.csv', sep=';')\n",
    "\n",
    "tracks_df['artist_names'] = [i.replace('\"','').replace('[','').replace(']','').split(',') for i in tracks_df['artist_names']]\n",
    "tracks_df['artist_ids'] = [i.replace('\"','').replace('[','').replace(']','').split(',') for i in tracks_df['artist_ids']]\n",
    "tracks_df['available_markets'] = [i.replace('\"','').replace('[','').replace(']','').split(',') for i in tracks_df['available_markets']]\n",
    "tracks_df['explicit'] = [int(i) for i in tracks_df['explicit']]\n",
    "\n",
    "tracks_df.head()"
   ]
  },
  {
   "cell_type": "code",
   "execution_count": 7,
   "metadata": {},
   "outputs": [
    {
     "name": "stdout",
     "output_type": "stream",
     "text": [
      "['album_name', 'album_id', 'artist_names', 'artist_ids', 'available_markets', 'track_id', 'track_isrc_id', 'track_name', 'track_number', 'disc_number', 'explicit', 'popularity', 'danceability', 'energy', 'key', 'loudness', 'mode', 'speechiness', 'acousticness', 'instrumentalness', 'liveness', 'valence', 'duration_ms', 'time_signature']\n"
     ]
    }
   ],
   "source": [
    "print(list(tracks_df))"
   ]
  },
  {
   "cell_type": "code",
   "execution_count": 8,
   "metadata": {
    "collapsed": true
   },
   "outputs": [],
   "source": [
    "continuous_var = ['popularity','danceability','energy','loudness','speechiness','acousticness','instrumentalness','liveness','valence','duration_ms']\n",
    "categorical_var = ['explicit','key','mode','time_signature']\n",
    "\n",
    "def gen_cols(track_list):\n",
    "    values = [[] for i in range(len(continuous_var))]\n",
    "    for track in track_list:\n",
    "        for j in range(len(continuous_var)):\n",
    "            values[j].append((tracks_df.loc[tracks_df['track_id'] == track, continuous_var[j]]))\n",
    "    return values\n",
    "#     df = tracks_df.loc[tracks_df['track_id'].isin(track_list)]\n",
    "#     return df\n"
   ]
  },
  {
   "cell_type": "code",
   "execution_count": 9,
   "metadata": {},
   "outputs": [
    {
     "data": {
      "text/plain": [
       "0.029499999999999998"
      ]
     },
     "execution_count": 9,
     "metadata": {},
     "output_type": "execute_result"
    }
   ],
   "source": [
    "(tracks_df.loc[tracks_df['track_id'] == '34gCuhDGsG4bRPIf9bb02f', 'speechiness'])[0]"
   ]
  },
  {
   "cell_type": "code",
   "execution_count": null,
   "metadata": {
    "collapsed": true
   },
   "outputs": [],
   "source": []
  }
 ],
 "metadata": {
  "kernelspec": {
   "display_name": "Python 3",
   "language": "python",
   "name": "python3"
  },
  "language_info": {
   "codemirror_mode": {
    "name": "ipython",
    "version": 3
   },
   "file_extension": ".py",
   "mimetype": "text/x-python",
   "name": "python",
   "nbconvert_exporter": "python",
   "pygments_lexer": "ipython3",
   "version": "3.6.1"
  }
 },
 "nbformat": 4,
 "nbformat_minor": 2
}
