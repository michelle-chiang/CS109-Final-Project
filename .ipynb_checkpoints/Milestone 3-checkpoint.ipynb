{
 "cells": [
  {
   "cell_type": "markdown",
   "metadata": {},
   "source": [
    "# CS109a Final Project: Spotify\n",
    "## Milestone 3\n",
    "### Group 31: Michelle Chiang, David Seong, Emily Chen\n"
   ]
  },
  {
   "cell_type": "markdown",
   "metadata": {},
   "source": [
    "### 1. Data Information\n",
    "\n",
    "So far we have explored data from Spotify's API ...\n",
    "\n",
    "According to John Bowditch's \"A Breakdown of Spotify's Most Followed Playlists,\" a LinkedIn article from 2016, the top 76 most followed playlists on Spotify are all Spotify-curated playlists. Due to certain limitations of the Spotify API - there is no way to query for playlists with the most followers, and playlists are only accessible by querying either the invidiual playlist ID or the user ID of a playlist owner - we thought it most efficient to focus on only Spotify-curated playlists for our initial data collection. However, in the future, a stretch goal could be to include playlists from other highly-followed curators."
   ]
  },
  {
   "cell_type": "markdown",
   "metadata": {},
   "source": [
    "### 2. EDA"
   ]
  },
  {
   "cell_type": "code",
   "execution_count": 1,
   "metadata": {
    "collapsed": true
   },
   "outputs": [],
   "source": [
    "import numpy as np\n",
    "import pandas as pd\n",
    "import matplotlib\n",
    "import matplotlib.pyplot as plt\n",
    "%matplotlib inline"
   ]
  },
  {
   "cell_type": "code",
   "execution_count": 3,
   "metadata": {},
   "outputs": [
    {
     "data": {
      "text/html": [
       "<div>\n",
       "<style>\n",
       "    .dataframe thead tr:only-child th {\n",
       "        text-align: right;\n",
       "    }\n",
       "\n",
       "    .dataframe thead th {\n",
       "        text-align: left;\n",
       "    }\n",
       "\n",
       "    .dataframe tbody tr th {\n",
       "        vertical-align: top;\n",
       "    }\n",
       "</style>\n",
       "<table border=\"1\" class=\"dataframe\">\n",
       "  <thead>\n",
       "    <tr style=\"text-align: right;\">\n",
       "      <th></th>\n",
       "      <th>id</th>\n",
       "      <th>followers</th>\n",
       "      <th>name</th>\n",
       "      <th>owner</th>\n",
       "      <th>trackIds</th>\n",
       "      <th>numTracks</th>\n",
       "    </tr>\n",
       "  </thead>\n",
       "  <tbody>\n",
       "    <tr>\n",
       "      <th>0</th>\n",
       "      <td>37i9dQZF1DXcBWIGoYBM5M</td>\n",
       "      <td>18129916</td>\n",
       "      <td>Today's Top Hits</td>\n",
       "      <td>spotify</td>\n",
       "      <td>[\"0tBbt8CrmxbjRP0pueQkyU\",null,\"2amzBJRBPOGszB...</td>\n",
       "      <td>1501</td>\n",
       "    </tr>\n",
       "    <tr>\n",
       "      <th>1</th>\n",
       "      <td>37i9dQZF1DX0XUsuxWHRQd</td>\n",
       "      <td>8323892</td>\n",
       "      <td>RapCaviar</td>\n",
       "      <td>spotify</td>\n",
       "      <td>[\"4dVpf9jZjcORqGTLUaeYj9\",null,\"3ncgNpxLoBQ65A...</td>\n",
       "      <td>1531</td>\n",
       "    </tr>\n",
       "    <tr>\n",
       "      <th>2</th>\n",
       "      <td>37i9dQZF1DX4dyzvuaRJ0n</td>\n",
       "      <td>4600937</td>\n",
       "      <td>mint</td>\n",
       "      <td>spotify</td>\n",
       "      <td>[\"3VQDpxMffTaggOHEeur7Tj\",null,\"43V1z6QToNNWNl...</td>\n",
       "      <td>1561</td>\n",
       "    </tr>\n",
       "    <tr>\n",
       "      <th>3</th>\n",
       "      <td>37i9dQZF1DX4SBhb3fqCJd</td>\n",
       "      <td>3787551</td>\n",
       "      <td>Are &amp; Be</td>\n",
       "      <td>spotify</td>\n",
       "      <td>[\"6gU9OKjOE7ghfEd55oRO57\",null,\"25wStx3LyTjYmH...</td>\n",
       "      <td>1531</td>\n",
       "    </tr>\n",
       "    <tr>\n",
       "      <th>4</th>\n",
       "      <td>37i9dQZF1DXcF6B6QPhFDv</td>\n",
       "      <td>3996091</td>\n",
       "      <td>Rock This</td>\n",
       "      <td>spotify</td>\n",
       "      <td>[\"3k7JQg9M5rZJHveFYq0y9J\",null,\"5UMD1Iz7yyVK8Q...</td>\n",
       "      <td>1501</td>\n",
       "    </tr>\n",
       "  </tbody>\n",
       "</table>\n",
       "</div>"
      ],
      "text/plain": [
       "                       id  followers              name    owner  \\\n",
       "0  37i9dQZF1DXcBWIGoYBM5M   18129916  Today's Top Hits  spotify   \n",
       "1  37i9dQZF1DX0XUsuxWHRQd    8323892         RapCaviar  spotify   \n",
       "2  37i9dQZF1DX4dyzvuaRJ0n    4600937              mint  spotify   \n",
       "3  37i9dQZF1DX4SBhb3fqCJd    3787551          Are & Be  spotify   \n",
       "4  37i9dQZF1DXcF6B6QPhFDv    3996091         Rock This  spotify   \n",
       "\n",
       "                                            trackIds  numTracks  \n",
       "0  [\"0tBbt8CrmxbjRP0pueQkyU\",null,\"2amzBJRBPOGszB...       1501  \n",
       "1  [\"4dVpf9jZjcORqGTLUaeYj9\",null,\"3ncgNpxLoBQ65A...       1531  \n",
       "2  [\"3VQDpxMffTaggOHEeur7Tj\",null,\"43V1z6QToNNWNl...       1561  \n",
       "3  [\"6gU9OKjOE7ghfEd55oRO57\",null,\"25wStx3LyTjYmH...       1531  \n",
       "4  [\"3k7JQg9M5rZJHveFYq0y9J\",null,\"5UMD1Iz7yyVK8Q...       1501  "
      ]
     },
     "execution_count": 3,
     "metadata": {},
     "output_type": "execute_result"
    }
   ],
   "source": [
    "spotify_df = pd.read_csv('spotify_playlists.csv', sep=';')\n",
    "spotify_df['numTracks'] = [int(len(i)) for i in spotify_df['trackIds']]\n",
    "\n",
    "spotify_df = spotify_df[spotify_df.followers != 'null']\n",
    "spotify_df['followers'] = [int(i) for i in spotify_df['followers']]\n",
    "\n",
    "spotify_df.head()"
   ]
  },
  {
   "cell_type": "code",
   "execution_count": 4,
   "metadata": {},
   "outputs": [
    {
     "data": {
      "text/plain": [
       "<matplotlib.text.Text at 0x10df02940>"
      ]
     },
     "execution_count": 4,
     "metadata": {},
     "output_type": "execute_result"
    },
    {
     "data": {
      "image/png": "[encoded data removed]",
      "text/plain": [
       "<matplotlib.figure.Figure at 0x10de17208>"
      ]
     },
     "metadata": {},
     "output_type": "display_data"
    }
   ],
   "source": [
    "plt.figure(figsize=(20,10))\n",
    "plt.scatter(spotify_df['numTracks'], spotify_df['followers'])\n",
    "plt.xlabel('Number of Tracks')\n",
    "plt.ylabel('Number of Followers')\n",
    "plt.title('Playlist Popularity as a Function of Number of Tracks')"
   ]
  },
  {
   "cell_type": "code",
   "execution_count": 5,
   "metadata": {},
   "outputs": [
    {
     "data": {
      "text/html": [
       "<div>\n",
       "<style>\n",
       "    .dataframe thead tr:only-child th {\n",
       "        text-align: right;\n",
       "    }\n",
       "\n",
       "    .dataframe thead th {\n",
       "        text-align: left;\n",
       "    }\n",
       "\n",
       "    .dataframe tbody tr th {\n",
       "        vertical-align: top;\n",
       "    }\n",
       "</style>\n",
       "<table border=\"1\" class=\"dataframe\">\n",
       "  <thead>\n",
       "    <tr style=\"text-align: right;\">\n",
       "      <th></th>\n",
       "      <th>id</th>\n",
       "      <th>followers</th>\n",
       "      <th>name</th>\n",
       "      <th>owner</th>\n",
       "      <th>trackIds</th>\n",
       "      <th>numTracks</th>\n",
       "    </tr>\n",
       "  </thead>\n",
       "  <tbody>\n",
       "    <tr>\n",
       "      <th>1</th>\n",
       "      <td>3bGlMDI6hcVMbkbSofSXZO</td>\n",
       "      <td>0</td>\n",
       "      <td>rainy mornings</td>\n",
       "      <td>mchiang123</td>\n",
       "      <td>[\"6Ej6WtjqLbro72mF4Y1Xdb\",\"2murM3wAmHXaTDgTanh...</td>\n",
       "      <td>51</td>\n",
       "    </tr>\n",
       "    <tr>\n",
       "      <th>2</th>\n",
       "      <td>6q6DM4NHRdZxCvLIet51A8</td>\n",
       "      <td>0</td>\n",
       "      <td>chill dance</td>\n",
       "      <td>mchiang123</td>\n",
       "      <td>[\"7Lb6NzZY3H4NT73qlEznEk\",\"5GUvXUx0GbyBKO2f8yQ...</td>\n",
       "      <td>351</td>\n",
       "    </tr>\n",
       "    <tr>\n",
       "      <th>3</th>\n",
       "      <td>7v7MGgV5oBZ3pVvCgEeHmK</td>\n",
       "      <td>0</td>\n",
       "      <td>choreographing</td>\n",
       "      <td>mchiang123</td>\n",
       "      <td>[\"44UZDF8UJuzh8ChtDa1gqy\",\"29bGodakyOzmX8SB6bL...</td>\n",
       "      <td>701</td>\n",
       "    </tr>\n",
       "    <tr>\n",
       "      <th>7</th>\n",
       "      <td>1pUudrDFrCfQEtuInS0QPc</td>\n",
       "      <td>0</td>\n",
       "      <td>work</td>\n",
       "      <td>mchiang123</td>\n",
       "      <td>[\"10arMr7YVORSWkQeltmwjv\",\"2QQzDIyZvWduhYqQijx...</td>\n",
       "      <td>801</td>\n",
       "    </tr>\n",
       "    <tr>\n",
       "      <th>8</th>\n",
       "      <td>6zwCbTxUcu81OKJayqkzB6</td>\n",
       "      <td>0</td>\n",
       "      <td>my jam (and peanut butter)</td>\n",
       "      <td>mchiang123</td>\n",
       "      <td>[\"70TMN0avBv3acen5xHfjdw\",\"1aj4GXfmEYXfdVZohCp...</td>\n",
       "      <td>2451</td>\n",
       "    </tr>\n",
       "  </tbody>\n",
       "</table>\n",
       "</div>"
      ],
      "text/plain": [
       "                       id  followers                        name       owner  \\\n",
       "1  3bGlMDI6hcVMbkbSofSXZO          0              rainy mornings  mchiang123   \n",
       "2  6q6DM4NHRdZxCvLIet51A8          0                 chill dance  mchiang123   \n",
       "3  7v7MGgV5oBZ3pVvCgEeHmK          0              choreographing  mchiang123   \n",
       "7  1pUudrDFrCfQEtuInS0QPc          0                        work  mchiang123   \n",
       "8  6zwCbTxUcu81OKJayqkzB6          0  my jam (and peanut butter)  mchiang123   \n",
       "\n",
       "                                            trackIds  numTracks  \n",
       "1  [\"6Ej6WtjqLbro72mF4Y1Xdb\",\"2murM3wAmHXaTDgTanh...         51  \n",
       "2  [\"7Lb6NzZY3H4NT73qlEznEk\",\"5GUvXUx0GbyBKO2f8yQ...        351  \n",
       "3  [\"44UZDF8UJuzh8ChtDa1gqy\",\"29bGodakyOzmX8SB6bL...        701  \n",
       "7  [\"10arMr7YVORSWkQeltmwjv\",\"2QQzDIyZvWduhYqQijx...        801  \n",
       "8  [\"70TMN0avBv3acen5xHfjdw\",\"1aj4GXfmEYXfdVZohCp...       2451  "
      ]
     },
     "execution_count": 5,
     "metadata": {},
     "output_type": "execute_result"
    }
   ],
   "source": [
    "michelle_df = pd.read_csv('michelle_playlists.csv', sep=';')\n",
    "michelle_df['numTracks'] = [int(len(i)) for i in michelle_df['trackIds']]\n",
    "\n",
    "michelle_df = michelle_df[michelle_df.followers != 'null']\n",
    "michelle_df['followers'] = [int(i) for i in michelle_df['followers']]\n",
    "\n",
    "michelle_df.head()"
   ]
  },
  {
   "cell_type": "code",
   "execution_count": 6,
   "metadata": {},
   "outputs": [
    {
     "data": {
      "text/plain": [
       "<matplotlib.text.Text at 0x10e4e70f0>"
      ]
     },
     "execution_count": 6,
     "metadata": {},
     "output_type": "execute_result"
    },
    {
     "data": {
      "image/png": "[encoded data removed]",
      "text/plain": [
       "<matplotlib.figure.Figure at 0x10ded74a8>"
      ]
     },
     "metadata": {},
     "output_type": "display_data"
    }
   ],
   "source": [
    "plt.figure(figsize=(20,10))\n",
    "plt.scatter(michelle_df['numTracks'], michelle_df['followers'])\n",
    "plt.xlabel('Number of Tracks')\n",
    "plt.ylabel('Number of Followers')\n",
    "plt.title('Playlist Popularity as a Function of Number of Tracks')"
   ]
  },
  {
   "cell_type": "code",
   "execution_count": 14,
   "metadata": {},
   "outputs": [
    {
     "data": {
      "text/plain": [
       "'[\"4dVpf9jZjcORqGTLUaeYj9\",null,\"3ncgNpxLoBQ65ABk4djDyd\",null,\"7sO5G9EABYOXQKNPNiE9NR\",null,\"6foxplXS0YEq8cO374Lty4\",null,\"1YZfcVLbbJwfizR5cDOp3q\",null,\"4DTpngLjoHj5gFxEZFeD3J\",null,\"1XRgIKC5TPwo7nWGyKqgG0\",null,\"2Xqd0wUttjueBfdcltADOv\",null,\"5u6vkDnOyaf8LsteDAj2ub\",null,\"4pYZLpX23Vx8rwDpJCpPTA\",null,\"22nyEAEM29tcBRhukR089b\",null,\"0taOCiup4HNG9LmbduVlJj\",null,\"0Gux2yTMWYOlcBUNjGJu5p\",null,\"5eqK0tbzUPo2SoeZsov04s\",null,\"2vjmyyAnDUzilFYxOlTdO1\",null,\"5RCfvwDewu6p2x1mEI6smX\",null,\"40oKW22ZNNkEdZLJTScaQI\",null,\"57IRaiAB4hBZu3gnNVZC0v\",null,\"1OmcAT5Y8eg5bUPv9qJT4R\",null,\"790MhTXPFrYkrqCKvpg4t1\",null,\"6GNifiuBPrKFpwNBYnooFm\",null,\"7r6LNJT2LqpLpEyZQJPygt\",null,\"2vaMWMPMgsWX4fwJiKmdWm\",null,\"4YkwUfWSIxdKNLDXw0caFO\",null,\"3xWwPvpAv1HbKFmTwf6uKR\",null,\"0PDwNx6GrHc5sRVy6Hc7GP\",null,\"5A8EYS9Z4hz4EmtU8W8kI3\",null,\"5gLJFqhjXwsxJdrugDIQDq\",null,\"4EsYkJjHKMejYLp54woB9c\",null,\"61mnlyQlnPuq1GEX0LxIWh\",null,\"0NKh1STZG1VgnVwntJF3ze\",null,\"2bwN9oZIn9XXSd8RlJ4FDM\",null,\"4UdzNCjI27SvzXvV1m0CKM\",null,\"0uxSUdBrJy9Un0EYoBowng\",null,\"2c5D6B8oXAwc6easamdgVA\",null,\"32aYDW8Qdnv1ur89TUlDnm\",null,\"6PGoSes0D9eUDeeAafB2As\",null,\"7hsulgRNgbyczeAg8tChCB\",null,\"6NvSxE4pfP7TcD1OhGgaZW\",null,\"7yeNCRqvnoAskALhUuSxwi\",null,\"5lxkPZ2kaSfkSF9CDyNNXm\",null,\"1JVy7tmBlRKPCKu3lCUWhQ\",null,\"77V8N0imMUga8hUL0gxXHT\",null,\"6l8McJSn8BgCTTewysSusR\",null,\"24lORMRGMv9sXpZJdN1PVm\",null,\"0luqG2fhUz17ncifrWqrut\",null,\"0RyA3o15NOLJYtm9NlDu5c\",null,\"1iu3UTLNy436K7S8KVOdjS\",null,\"5uB3aRZSQWj6tARrgjYjaZ\",null,\"61fOn76qpka9rHRbQ6Vxxv\",null,\"7zLGHiDWd9T1Rxw4PQCb13\",null]'"
      ]
     },
     "execution_count": 14,
     "metadata": {},
     "output_type": "execute_result"
    }
   ],
   "source": [
    "spotify_df['trackIds'][1]"
   ]
  },
  {
   "cell_type": "markdown",
   "metadata": {},
   "source": [
    "### 3. Revised Project Question\n",
    "\n",
    "The data suggest ...\n"
   ]
  }
 ],
 "metadata": {
  "kernelspec": {
   "display_name": "Python 3",
   "language": "python",
   "name": "python3"
  },
  "language_info": {
   "codemirror_mode": {
    "name": "ipython",
    "version": 3
   },
   "file_extension": ".py",
   "mimetype": "text/x-python",
   "name": "python",
   "nbconvert_exporter": "python",
   "pygments_lexer": "ipython3",
   "version": "3.6.1"
  }
 },
 "nbformat": 4,
 "nbformat_minor": 2
}
