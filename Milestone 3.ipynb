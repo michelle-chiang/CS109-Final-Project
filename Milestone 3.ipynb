{
 "cells": [
  {
   "cell_type": "markdown",
   "metadata": {},
   "source": [
    "# CS109a Final Project: Spotify\n",
    "## Milestone 3\n",
    "### Group 31: Michelle Chiang, David Seong, Emily Chen\n"
   ]
  },
  {
   "cell_type": "markdown",
   "metadata": {},
   "source": [
    "### 1. Data Information\n",
    "\n",
    "So far we have explored data from Spotify's API ...\n",
    "\n",
    "According to John Bowditch's \"A Breakdown of Spotify's Most Followed Playlists,\" a LinkedIn article from 2016, the top 76 most followed playlists on Spotify are all Spotify-curated playlists. Due to certain limitations of the Spotify API - there is no way to query for playlists with the most followers, and playlists are only accessible by querying either the invidiual playlist ID or the user ID of a playlist owner - we thought it most efficient to focus on only Spotify-curated playlists for our initial data collection. However, in the future, a stretch goal could be to include playlists from other highly-followed curators."
   ]
  },
  {
   "cell_type": "markdown",
   "metadata": {},
   "source": [
    "### 2. EDA"
   ]
  },
  {
   "cell_type": "code",
   "execution_count": 2,
   "metadata": {
    "collapsed": true
   },
   "outputs": [],
   "source": [
    "import numpy as np\n",
    "import pandas as pd\n",
    "import matplotlib\n",
    "import matplotlib.pyplot as plt\n",
    "%matplotlib inline"
   ]
  },
  {
   "cell_type": "code",
   "execution_count": 3,
   "metadata": {},
   "outputs": [
    {
     "data": {
      "text/html": [
       "<div>\n",
       "<style>\n",
       "    .dataframe thead tr:only-child th {\n",
       "        text-align: right;\n",
       "    }\n",
       "\n",
       "    .dataframe thead th {\n",
       "        text-align: left;\n",
       "    }\n",
       "\n",
       "    .dataframe tbody tr th {\n",
       "        vertical-align: top;\n",
       "    }\n",
       "</style>\n",
       "<table border=\"1\" class=\"dataframe\">\n",
       "  <thead>\n",
       "    <tr style=\"text-align: right;\">\n",
       "      <th></th>\n",
       "      <th>id</th>\n",
       "      <th>followers</th>\n",
       "      <th>name</th>\n",
       "      <th>owner</th>\n",
       "      <th>trackIds</th>\n",
       "    </tr>\n",
       "  </thead>\n",
       "  <tbody>\n",
       "    <tr>\n",
       "      <th>0</th>\n",
       "      <td>4xPHXrvGXTgw7BuhI14yqT</td>\n",
       "      <td>null</td>\n",
       "      <td>null</td>\n",
       "      <td>null</td>\n",
       "      <td>[]</td>\n",
       "    </tr>\n",
       "    <tr>\n",
       "      <th>1</th>\n",
       "      <td>3bGlMDI6hcVMbkbSofSXZO</td>\n",
       "      <td>0</td>\n",
       "      <td>rainy mornings</td>\n",
       "      <td>mchiang123</td>\n",
       "      <td>[\"6Ej6WtjqLbro72mF4Y1Xdb\",\"2murM3wAmHXaTDgTanh...</td>\n",
       "    </tr>\n",
       "    <tr>\n",
       "      <th>2</th>\n",
       "      <td>6q6DM4NHRdZxCvLIet51A8</td>\n",
       "      <td>0</td>\n",
       "      <td>chill dance</td>\n",
       "      <td>mchiang123</td>\n",
       "      <td>[\"7Lb6NzZY3H4NT73qlEznEk\",\"5GUvXUx0GbyBKO2f8yQ...</td>\n",
       "    </tr>\n",
       "    <tr>\n",
       "      <th>3</th>\n",
       "      <td>7v7MGgV5oBZ3pVvCgEeHmK</td>\n",
       "      <td>0</td>\n",
       "      <td>choreographing</td>\n",
       "      <td>mchiang123</td>\n",
       "      <td>[\"44UZDF8UJuzh8ChtDa1gqy\",\"29bGodakyOzmX8SB6bL...</td>\n",
       "    </tr>\n",
       "    <tr>\n",
       "      <th>4</th>\n",
       "      <td>3cUTQhw2uGaTp0T4j7KDTy</td>\n",
       "      <td>null</td>\n",
       "      <td>null</td>\n",
       "      <td>null</td>\n",
       "      <td>[]</td>\n",
       "    </tr>\n",
       "  </tbody>\n",
       "</table>\n",
       "</div>"
      ],
      "text/plain": [
       "                       id followers            name       owner  \\\n",
       "0  4xPHXrvGXTgw7BuhI14yqT      null            null        null   \n",
       "1  3bGlMDI6hcVMbkbSofSXZO         0  rainy mornings  mchiang123   \n",
       "2  6q6DM4NHRdZxCvLIet51A8         0     chill dance  mchiang123   \n",
       "3  7v7MGgV5oBZ3pVvCgEeHmK         0  choreographing  mchiang123   \n",
       "4  3cUTQhw2uGaTp0T4j7KDTy      null            null        null   \n",
       "\n",
       "                                            trackIds  \n",
       "0                                                 []  \n",
       "1  [\"6Ej6WtjqLbro72mF4Y1Xdb\",\"2murM3wAmHXaTDgTanh...  \n",
       "2  [\"7Lb6NzZY3H4NT73qlEznEk\",\"5GUvXUx0GbyBKO2f8yQ...  \n",
       "3  [\"44UZDF8UJuzh8ChtDa1gqy\",\"29bGodakyOzmX8SB6bL...  \n",
       "4                                                 []  "
      ]
     },
     "execution_count": 3,
     "metadata": {},
     "output_type": "execute_result"
    }
   ],
   "source": [
    "df = pd.read_csv('michelle_playlists.csv', sep=';')\n",
    "df.head()"
   ]
  },
  {
   "cell_type": "markdown",
   "metadata": {},
   "source": [
    "### 3. Revised Project Question\n",
    "\n",
    "The data suggest ...\n"
   ]
  }
 ],
 "metadata": {
  "kernelspec": {
   "display_name": "Python 3",
   "language": "python",
   "name": "python3"
  },
  "language_info": {
   "codemirror_mode": {
    "name": "ipython",
    "version": 3
   },
   "file_extension": ".py",
   "mimetype": "text/x-python",
   "name": "python",
   "nbconvert_exporter": "python",
   "pygments_lexer": "ipython3",
   "version": "3.6.1"
  }
 },
 "nbformat": 4,
 "nbformat_minor": 2
}
